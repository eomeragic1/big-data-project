{
 "cells": [
  {
   "cell_type": "markdown",
   "source": [
    "# Client setup"
   ],
   "metadata": {
    "collapsed": false
   }
  },
  {
   "cell_type": "code",
   "execution_count": 1,
   "outputs": [],
   "source": [
    "development = 'local'"
   ],
   "metadata": {
    "collapsed": false,
    "ExecuteTime": {
     "start_time": "2023-05-21T15:06:19.613553Z",
     "end_time": "2023-05-21T15:06:19.631551Z"
    }
   }
  },
  {
   "cell_type": "code",
   "execution_count": 2,
   "metadata": {
    "collapsed": true,
    "ExecuteTime": {
     "start_time": "2023-05-21T15:06:20.725190Z",
     "end_time": "2023-05-21T15:06:32.406279Z"
    }
   },
   "outputs": [
    {
     "data": {
      "text/plain": "LocalCluster(c26f6207, 'tcp://127.0.0.1:50750', workers=4, threads=8, memory=15.91 GiB)",
      "application/vnd.jupyter.widget-view+json": {
       "version_major": 2,
       "version_minor": 0,
       "model_id": "82fccdbc25fa48a09c2bbdd79d2b4986"
      },
      "text/html": "<div class=\"jp-RenderedHTMLCommon jp-RenderedHTML jp-mod-trusted jp-OutputArea-output\">\n    <div style=\"width: 24px; height: 24px; background-color: #e1e1e1; border: 3px solid #9D9D9D; border-radius: 5px; position: absolute;\">\n    </div>\n    <div style=\"margin-left: 48px;\">\n        <h3 style=\"margin-bottom: 0px; margin-top: 0px;\">LocalCluster</h3>\n        <p style=\"color: #9D9D9D; margin-bottom: 0px;\">c26f6207</p>\n        <table style=\"width: 100%; text-align: left;\">\n            <tr>\n                <td style=\"text-align: left;\">\n                    <strong>Dashboard:</strong> <a href=\"http://127.0.0.1:8787/status\" target=\"_blank\">http://127.0.0.1:8787/status</a>\n                </td>\n                <td style=\"text-align: left;\">\n                    <strong>Workers:</strong> 4\n                </td>\n            </tr>\n            <tr>\n                <td style=\"text-align: left;\">\n                    <strong>Total threads:</strong> 8\n                </td>\n                <td style=\"text-align: left;\">\n                    <strong>Total memory:</strong> 15.91 GiB\n                </td>\n            </tr>\n            \n            <tr>\n    <td style=\"text-align: left;\"><strong>Status:</strong> running</td>\n    <td style=\"text-align: left;\"><strong>Using processes:</strong> True</td>\n</tr>\n\n            \n        </table>\n\n        <details>\n            <summary style=\"margin-bottom: 20px;\">\n                <h3 style=\"display: inline;\">Scheduler Info</h3>\n            </summary>\n\n            <div style=\"\">\n    <div>\n        <div style=\"width: 24px; height: 24px; background-color: #FFF7E5; border: 3px solid #FF6132; border-radius: 5px; position: absolute;\"> </div>\n        <div style=\"margin-left: 48px;\">\n            <h3 style=\"margin-bottom: 0px;\">Scheduler</h3>\n            <p style=\"color: #9D9D9D; margin-bottom: 0px;\">Scheduler-15ce4a41-9ba9-41a7-b160-762d1a5d68fc</p>\n            <table style=\"width: 100%; text-align: left;\">\n                <tr>\n                    <td style=\"text-align: left;\">\n                        <strong>Comm:</strong> tcp://127.0.0.1:50750\n                    </td>\n                    <td style=\"text-align: left;\">\n                        <strong>Workers:</strong> 4\n                    </td>\n                </tr>\n                <tr>\n                    <td style=\"text-align: left;\">\n                        <strong>Dashboard:</strong> <a href=\"http://127.0.0.1:8787/status\" target=\"_blank\">http://127.0.0.1:8787/status</a>\n                    </td>\n                    <td style=\"text-align: left;\">\n                        <strong>Total threads:</strong> 8\n                    </td>\n                </tr>\n                <tr>\n                    <td style=\"text-align: left;\">\n                        <strong>Started:</strong> Just now\n                    </td>\n                    <td style=\"text-align: left;\">\n                        <strong>Total memory:</strong> 15.91 GiB\n                    </td>\n                </tr>\n            </table>\n        </div>\n    </div>\n\n    <details style=\"margin-left: 48px;\">\n        <summary style=\"margin-bottom: 20px;\">\n            <h3 style=\"display: inline;\">Workers</h3>\n        </summary>\n\n        \n        <div style=\"margin-bottom: 20px;\">\n            <div style=\"width: 24px; height: 24px; background-color: #DBF5FF; border: 3px solid #4CC9FF; border-radius: 5px; position: absolute;\"> </div>\n            <div style=\"margin-left: 48px;\">\n            <details>\n                <summary>\n                    <h4 style=\"margin-bottom: 0px; display: inline;\">Worker: 0</h4>\n                </summary>\n                <table style=\"width: 100%; text-align: left;\">\n                    <tr>\n                        <td style=\"text-align: left;\">\n                            <strong>Comm: </strong> tcp://127.0.0.1:50771\n                        </td>\n                        <td style=\"text-align: left;\">\n                            <strong>Total threads: </strong> 2\n                        </td>\n                    </tr>\n                    <tr>\n                        <td style=\"text-align: left;\">\n                            <strong>Dashboard: </strong> <a href=\"http://127.0.0.1:50777/status\" target=\"_blank\">http://127.0.0.1:50777/status</a>\n                        </td>\n                        <td style=\"text-align: left;\">\n                            <strong>Memory: </strong> 3.98 GiB\n                        </td>\n                    </tr>\n                    <tr>\n                        <td style=\"text-align: left;\">\n                            <strong>Nanny: </strong> tcp://127.0.0.1:50753\n                        </td>\n                        <td style=\"text-align: left;\"></td>\n                    </tr>\n                    <tr>\n                        <td colspan=\"2\" style=\"text-align: left;\">\n                            <strong>Local directory: </strong> C:\\Users\\Expoil\\AppData\\Local\\Temp\\dask-scratch-space\\worker-8tmsvva5\n                        </td>\n                    </tr>\n\n                    \n\n                    \n\n                </table>\n            </details>\n            </div>\n        </div>\n        \n        <div style=\"margin-bottom: 20px;\">\n            <div style=\"width: 24px; height: 24px; background-color: #DBF5FF; border: 3px solid #4CC9FF; border-radius: 5px; position: absolute;\"> </div>\n            <div style=\"margin-left: 48px;\">\n            <details>\n                <summary>\n                    <h4 style=\"margin-bottom: 0px; display: inline;\">Worker: 1</h4>\n                </summary>\n                <table style=\"width: 100%; text-align: left;\">\n                    <tr>\n                        <td style=\"text-align: left;\">\n                            <strong>Comm: </strong> tcp://127.0.0.1:50770\n                        </td>\n                        <td style=\"text-align: left;\">\n                            <strong>Total threads: </strong> 2\n                        </td>\n                    </tr>\n                    <tr>\n                        <td style=\"text-align: left;\">\n                            <strong>Dashboard: </strong> <a href=\"http://127.0.0.1:50772/status\" target=\"_blank\">http://127.0.0.1:50772/status</a>\n                        </td>\n                        <td style=\"text-align: left;\">\n                            <strong>Memory: </strong> 3.98 GiB\n                        </td>\n                    </tr>\n                    <tr>\n                        <td style=\"text-align: left;\">\n                            <strong>Nanny: </strong> tcp://127.0.0.1:50754\n                        </td>\n                        <td style=\"text-align: left;\"></td>\n                    </tr>\n                    <tr>\n                        <td colspan=\"2\" style=\"text-align: left;\">\n                            <strong>Local directory: </strong> C:\\Users\\Expoil\\AppData\\Local\\Temp\\dask-scratch-space\\worker-3kibu56_\n                        </td>\n                    </tr>\n\n                    \n\n                    \n\n                </table>\n            </details>\n            </div>\n        </div>\n        \n        <div style=\"margin-bottom: 20px;\">\n            <div style=\"width: 24px; height: 24px; background-color: #DBF5FF; border: 3px solid #4CC9FF; border-radius: 5px; position: absolute;\"> </div>\n            <div style=\"margin-left: 48px;\">\n            <details>\n                <summary>\n                    <h4 style=\"margin-bottom: 0px; display: inline;\">Worker: 2</h4>\n                </summary>\n                <table style=\"width: 100%; text-align: left;\">\n                    <tr>\n                        <td style=\"text-align: left;\">\n                            <strong>Comm: </strong> tcp://127.0.0.1:50769\n                        </td>\n                        <td style=\"text-align: left;\">\n                            <strong>Total threads: </strong> 2\n                        </td>\n                    </tr>\n                    <tr>\n                        <td style=\"text-align: left;\">\n                            <strong>Dashboard: </strong> <a href=\"http://127.0.0.1:50773/status\" target=\"_blank\">http://127.0.0.1:50773/status</a>\n                        </td>\n                        <td style=\"text-align: left;\">\n                            <strong>Memory: </strong> 3.98 GiB\n                        </td>\n                    </tr>\n                    <tr>\n                        <td style=\"text-align: left;\">\n                            <strong>Nanny: </strong> tcp://127.0.0.1:50755\n                        </td>\n                        <td style=\"text-align: left;\"></td>\n                    </tr>\n                    <tr>\n                        <td colspan=\"2\" style=\"text-align: left;\">\n                            <strong>Local directory: </strong> C:\\Users\\Expoil\\AppData\\Local\\Temp\\dask-scratch-space\\worker-5xoihr9w\n                        </td>\n                    </tr>\n\n                    \n\n                    \n\n                </table>\n            </details>\n            </div>\n        </div>\n        \n        <div style=\"margin-bottom: 20px;\">\n            <div style=\"width: 24px; height: 24px; background-color: #DBF5FF; border: 3px solid #4CC9FF; border-radius: 5px; position: absolute;\"> </div>\n            <div style=\"margin-left: 48px;\">\n            <details>\n                <summary>\n                    <h4 style=\"margin-bottom: 0px; display: inline;\">Worker: 3</h4>\n                </summary>\n                <table style=\"width: 100%; text-align: left;\">\n                    <tr>\n                        <td style=\"text-align: left;\">\n                            <strong>Comm: </strong> tcp://127.0.0.1:50776\n                        </td>\n                        <td style=\"text-align: left;\">\n                            <strong>Total threads: </strong> 2\n                        </td>\n                    </tr>\n                    <tr>\n                        <td style=\"text-align: left;\">\n                            <strong>Dashboard: </strong> <a href=\"http://127.0.0.1:50779/status\" target=\"_blank\">http://127.0.0.1:50779/status</a>\n                        </td>\n                        <td style=\"text-align: left;\">\n                            <strong>Memory: </strong> 3.98 GiB\n                        </td>\n                    </tr>\n                    <tr>\n                        <td style=\"text-align: left;\">\n                            <strong>Nanny: </strong> tcp://127.0.0.1:50756\n                        </td>\n                        <td style=\"text-align: left;\"></td>\n                    </tr>\n                    <tr>\n                        <td colspan=\"2\" style=\"text-align: left;\">\n                            <strong>Local directory: </strong> C:\\Users\\Expoil\\AppData\\Local\\Temp\\dask-scratch-space\\worker-qe2j8lb0\n                        </td>\n                    </tr>\n\n                    \n\n                    \n\n                </table>\n            </details>\n            </div>\n        </div>\n        \n\n    </details>\n</div>\n\n        </details>\n    </div>\n</div>"
     },
     "metadata": {},
     "output_type": "display_data"
    }
   ],
   "source": [
    "from dask.distributed import Client, progress\n",
    "import dask_jobqueue\n",
    "import dask.dataframe as dd\n",
    "\n",
    "try:\n",
    "    client.shutdown()\n",
    "except:\n",
    "    pass\n",
    "finally:\n",
    "    if development == 'local':\n",
    "        client = Client(n_workers= 4, threads_per_worker=2, timeout=\"200s\")\n",
    "        display(client.cluster)\n",
    "    elif development == 'cluster':\n",
    "        cluster = dask_jobqueue.SLURMCluster(\n",
    "                queue = 'all',\n",
    "                processes=2,\n",
    "                cores=16,\n",
    "                memory='32GB',\n",
    "                scheduler_options={'dashboard_address': ':8087'},\n",
    "                death_timeout=120 # seconds\n",
    "              )\n",
    "        client = Client(cluster, timeout=\"120s\")\n",
    "        display(client.cluster)"
   ]
  },
  {
   "cell_type": "markdown",
   "source": [
    "# Task"
   ],
   "metadata": {
    "collapsed": false
   }
  },
  {
   "cell_type": "code",
   "execution_count": 3,
   "outputs": [
    {
     "name": "stdout",
     "output_type": "stream",
     "text": [
      "Summons Number                         int64\n",
      "Plate ID                              object\n",
      "Registration State                    object\n",
      "Plate Type                            object\n",
      "Issue Date                            object\n",
      "Violation Code                         int64\n",
      "Vehicle Body Type                     object\n",
      "Vehicle Make                          object\n",
      "Issuing Agency                        object\n",
      "Street Code1                           int64\n",
      "Street Code2                           int64\n",
      "Street Code3                           int64\n",
      "Vehicle Expiration Date                int64\n",
      "Violation Location                   float64\n",
      "Violation Precinct                     int64\n",
      "Issuer Precinct                        int64\n",
      "Issuer Code                            int64\n",
      "Issuer Command                        object\n",
      "Issuer Squad                          object\n",
      "Violation Time                        object\n",
      "Time First Observed                   object\n",
      "Violation County                      object\n",
      "Violation In Front Of Or Opposite     object\n",
      "House Number                          object\n",
      "Street Name                           object\n",
      "Intersecting Street                   object\n",
      "Date First Observed                    int64\n",
      "Law Section                            int64\n",
      "Sub Division                          object\n",
      "Violation Legal Code                  object\n",
      "Days Parking In Effect                object\n",
      "From Hours In Effect                  object\n",
      "To Hours In Effect                    object\n",
      "Vehicle Color                         object\n",
      "Unregistered Vehicle?                 object\n",
      "Vehicle Year                           int64\n",
      "Meter Number                          object\n",
      "Feet From Curb                         int64\n",
      "Violation Post Code                   object\n",
      "Violation Description                 object\n",
      "No Standing or Stopping Violation    float64\n",
      "Hydrant Violation                    float64\n",
      "Double Parking Violation             float64\n",
      "dtype: object\n"
     ]
    },
    {
     "name": "stderr",
     "output_type": "stream",
     "text": [
      "2023-05-21 15:10:12,765 - distributed.nanny.memory - WARNING - Worker tcp://127.0.0.1:50770 (pid=11672) exceeded 95% memory budget. Restarting...\n",
      "2023-05-21 15:10:12,904 - distributed.nanny.memory - WARNING - Worker tcp://127.0.0.1:50770 (pid=11672) is slow to terminate; trying again\n",
      "2023-05-21 15:10:13,506 - distributed.nanny - WARNING - Restarting worker\n",
      "2023-05-21 15:10:37,552 - distributed.nanny.memory - WARNING - Worker tcp://127.0.0.1:50881 (pid=13352) exceeded 95% memory budget. Restarting...\n",
      "2023-05-21 15:10:37,914 - distributed.nanny - WARNING - Restarting worker\n"
     ]
    },
    {
     "data": {
      "text/plain": "['../data/hdf5/data-00.hdf',\n '../data/hdf5/data-01.hdf',\n '../data/hdf5/data-02.hdf',\n '../data/hdf5/data-03.hdf',\n '../data/hdf5/data-04.hdf',\n '../data/hdf5/data-05.hdf',\n '../data/hdf5/data-06.hdf',\n '../data/hdf5/data-07.hdf',\n '../data/hdf5/data-08.hdf',\n '../data/hdf5/data-09.hdf',\n '../data/hdf5/data-10.hdf',\n '../data/hdf5/data-11.hdf',\n '../data/hdf5/data-12.hdf',\n '../data/hdf5/data-13.hdf',\n '../data/hdf5/data-14.hdf',\n '../data/hdf5/data-15.hdf',\n '../data/hdf5/data-16.hdf',\n '../data/hdf5/data-17.hdf',\n '../data/hdf5/data-18.hdf',\n '../data/hdf5/data-19.hdf',\n '../data/hdf5/data-20.hdf',\n '../data/hdf5/data-21.hdf',\n '../data/hdf5/data-22.hdf',\n '../data/hdf5/data-23.hdf',\n '../data/hdf5/data-24.hdf',\n '../data/hdf5/data-25.hdf',\n '../data/hdf5/data-26.hdf',\n '../data/hdf5/data-27.hdf',\n '../data/hdf5/data-28.hdf',\n '../data/hdf5/data-29.hdf',\n '../data/hdf5/data-30.hdf',\n '../data/hdf5/data-31.hdf',\n '../data/hdf5/data-32.hdf',\n '../data/hdf5/data-33.hdf',\n '../data/hdf5/data-34.hdf',\n '../data/hdf5/data-35.hdf',\n '../data/hdf5/data-36.hdf',\n '../data/hdf5/data-37.hdf',\n '../data/hdf5/data-38.hdf',\n '../data/hdf5/data-39.hdf',\n '../data/hdf5/data-40.hdf',\n '../data/hdf5/data-41.hdf']"
     },
     "execution_count": 3,
     "metadata": {},
     "output_type": "execute_result"
    }
   ],
   "source": [
    "dtype = {'House Number': str,\n",
    "       'Issuer Command': str,\n",
    "       'Issuer Squad': str,\n",
    "       'Time First Observed': str,\n",
    "       'Unregistered Vehicle?': str,\n",
    "       'Violation Description': str,\n",
    "       'Violation Legal Code': str,\n",
    "       'Violation Location': 'float64',\n",
    "       'Violation Post Code': str}\n",
    "\n",
    "# Load CSV file using Dask\n",
    "df = dd.read_csv('../data/Parking_Violations_Issued_-_Fiscal_Year_2023.csv', dtype=dtype, blocksize='64MB')\n",
    "\n",
    "print(df.dtypes)\n",
    "\n",
    "# Store DataFrame in Parquet format\n",
    "df.astype(str).to_parquet('../data/Parking_Violations_Issued_-_Fiscal_Year_2023.parquet')\n",
    "\n",
    "# Store DataFrame in HDF5 format\n",
    "df.astype(str).to_hdf('../data/hdf5/data-*.hdf', '/data', mode='w', complib='blosc',complevel=9, min_itemsize=75)"
   ],
   "metadata": {
    "collapsed": false,
    "ExecuteTime": {
     "start_time": "2023-05-21T15:06:35.345271Z",
     "end_time": "2023-05-21T15:12:28.704406Z"
    }
   }
  },
  {
   "cell_type": "markdown",
   "source": [
    "# Client shutdown"
   ],
   "metadata": {
    "collapsed": false
   }
  },
  {
   "cell_type": "code",
   "execution_count": 4,
   "outputs": [
    {
     "name": "stderr",
     "output_type": "stream",
     "text": [
      "2023-05-21 15:15:15,383 - distributed.nanny - WARNING - Worker process still alive after 3.1999989318847657 seconds, killing\n"
     ]
    }
   ],
   "source": [
    "client.shutdown()"
   ],
   "metadata": {
    "collapsed": false,
    "ExecuteTime": {
     "start_time": "2023-05-21T15:15:12.108398Z",
     "end_time": "2023-05-21T15:15:15.527019Z"
    }
   }
  }
 ],
 "metadata": {
  "kernelspec": {
   "display_name": "Python 3",
   "language": "python",
   "name": "python3"
  },
  "language_info": {
   "codemirror_mode": {
    "name": "ipython",
    "version": 2
   },
   "file_extension": ".py",
   "mimetype": "text/x-python",
   "name": "python",
   "nbconvert_exporter": "python",
   "pygments_lexer": "ipython2",
   "version": "2.7.6"
  }
 },
 "nbformat": 4,
 "nbformat_minor": 0
}
