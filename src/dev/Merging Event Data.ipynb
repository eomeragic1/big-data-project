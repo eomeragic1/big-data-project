{
 "cells": [
  {
   "cell_type": "markdown",
   "source": [
    "# Merging Event Data"
   ],
   "metadata": {
    "collapsed": false
   }
  },
  {
   "cell_type": "code",
   "execution_count": 1,
   "outputs": [],
   "source": [
    "import pandas as pd"
   ],
   "metadata": {
    "collapsed": false
   }
  },
  {
   "cell_type": "code",
   "execution_count": 8,
   "outputs": [],
   "source": [
    "INPUT_DATA_PATH = '../data'\n",
    "OUTPUT_DATA_PATH = '../data/csv'"
   ],
   "metadata": {
    "collapsed": false
   }
  },
  {
   "cell_type": "code",
   "execution_count": 9,
   "outputs": [],
   "source": [
    "data_event_listing = pd.read_csv('../data/NYC_Parks_Events_Listing___Event_Listing.csv')\n",
    "data_event_locations = pd.read_csv('../data/NYC_Parks_Events_Listing___Event_Locations.csv')"
   ],
   "metadata": {
    "collapsed": false
   }
  },
  {
   "cell_type": "code",
   "execution_count": 10,
   "outputs": [],
   "source": [
    "data_event_listing.join(data_event_locations, on='event_id', how='inner', rsuffix='_location').to_csv(\n",
    "    f'{OUTPUT_DATA_PATH}/EVENT.csv')"
   ],
   "metadata": {
    "collapsed": false
   }
  },
  {
   "cell_type": "code",
   "execution_count": 11,
   "outputs": [
    {
     "data": {
      "text/plain": "['event_id',\n 'title',\n 'date',\n 'start_time',\n 'end_time',\n 'location_description',\n 'description',\n 'snippet',\n 'phone',\n 'email',\n 'cost_free',\n 'cost_description',\n 'must_see',\n 'url',\n 'notice',\n 'event_id_location',\n 'name',\n 'park_id',\n 'lat',\n 'long',\n 'address',\n 'zip',\n 'borough',\n 'accessible']"
     },
     "execution_count": 11,
     "metadata": {},
     "output_type": "execute_result"
    }
   ],
   "source": [
    "list(data_event_listing.join(data_event_locations, on='event_id', how='inner', rsuffix='_location').columns)"
   ],
   "metadata": {
    "collapsed": false
   }
  }
 ],
 "metadata": {
  "kernelspec": {
   "display_name": "Python 3",
   "language": "python",
   "name": "python3"
  },
  "language_info": {
   "codemirror_mode": {
    "name": "ipython",
    "version": 2
   },
   "file_extension": ".py",
   "mimetype": "text/x-python",
   "name": "python",
   "nbconvert_exporter": "python",
   "pygments_lexer": "ipython2",
   "version": "2.7.6"
  }
 },
 "nbformat": 4,
 "nbformat_minor": 0
}
