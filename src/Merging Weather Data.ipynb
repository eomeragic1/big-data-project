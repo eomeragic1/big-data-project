{
 "cells": [
  {
   "cell_type": "markdown",
   "source": [
    "# Merging Weather Data"
   ],
   "metadata": {
    "collapsed": false
   }
  },
  {
   "cell_type": "code",
   "execution_count": 2,
   "outputs": [],
   "source": [
    "import pandas as pd"
   ],
   "metadata": {
    "collapsed": false
   }
  },
  {
   "cell_type": "code",
   "execution_count": 5,
   "outputs": [],
   "source": [
    "INPUT_DATA_PATH = '../data/source'\n",
    "OUTPUT_DATA_PATH = '../data/csv'"
   ],
   "metadata": {
    "collapsed": false
   }
  },
  {
   "cell_type": "code",
   "execution_count": 9,
   "outputs": [],
   "source": [
    "data = pd.DataFrame()\n",
    "for borough in ['Bronx', 'Brooklyn', 'Manhattan', 'Queens', 'StatenIsland']:\n",
    "    data_borough = pd.read_csv(f'{INPUT_DATA_PATH}/WeatherData_{borough}.csv')\n",
    "    data_borough['Borough'] = len(data_borough) * [borough]\n",
    "    data = pd.concat([data, data_borough], axis=0)"
   ],
   "metadata": {
    "collapsed": false
   }
  },
  {
   "cell_type": "code",
   "execution_count": 10,
   "outputs": [
    {
     "data": {
      "text/plain": "               time  temperature_2m (°C)  precipitation (mm)  rain (mm)  \\\n0  2013-06-01T00:00                 25.7                 0.0        0.0   \n1  2013-06-01T01:00                 24.5                 0.0        0.0   \n2  2013-06-01T02:00                 24.0                 0.0        0.0   \n3  2013-06-01T03:00                 23.3                 0.0        0.0   \n4  2013-06-01T04:00                 22.4                 0.0        0.0   \n\n   snowfall (cm) Borough  \n0            0.0   Bronx  \n1            0.0   Bronx  \n2            0.0   Bronx  \n3            0.0   Bronx  \n4            0.0   Bronx  ",
      "text/html": "<div>\n<style scoped>\n    .dataframe tbody tr th:only-of-type {\n        vertical-align: middle;\n    }\n\n    .dataframe tbody tr th {\n        vertical-align: top;\n    }\n\n    .dataframe thead th {\n        text-align: right;\n    }\n</style>\n<table border=\"1\" class=\"dataframe\">\n  <thead>\n    <tr style=\"text-align: right;\">\n      <th></th>\n      <th>time</th>\n      <th>temperature_2m (°C)</th>\n      <th>precipitation (mm)</th>\n      <th>rain (mm)</th>\n      <th>snowfall (cm)</th>\n      <th>Borough</th>\n    </tr>\n  </thead>\n  <tbody>\n    <tr>\n      <th>0</th>\n      <td>2013-06-01T00:00</td>\n      <td>25.7</td>\n      <td>0.0</td>\n      <td>0.0</td>\n      <td>0.0</td>\n      <td>Bronx</td>\n    </tr>\n    <tr>\n      <th>1</th>\n      <td>2013-06-01T01:00</td>\n      <td>24.5</td>\n      <td>0.0</td>\n      <td>0.0</td>\n      <td>0.0</td>\n      <td>Bronx</td>\n    </tr>\n    <tr>\n      <th>2</th>\n      <td>2013-06-01T02:00</td>\n      <td>24.0</td>\n      <td>0.0</td>\n      <td>0.0</td>\n      <td>0.0</td>\n      <td>Bronx</td>\n    </tr>\n    <tr>\n      <th>3</th>\n      <td>2013-06-01T03:00</td>\n      <td>23.3</td>\n      <td>0.0</td>\n      <td>0.0</td>\n      <td>0.0</td>\n      <td>Bronx</td>\n    </tr>\n    <tr>\n      <th>4</th>\n      <td>2013-06-01T04:00</td>\n      <td>22.4</td>\n      <td>0.0</td>\n      <td>0.0</td>\n      <td>0.0</td>\n      <td>Bronx</td>\n    </tr>\n  </tbody>\n</table>\n</div>"
     },
     "execution_count": 10,
     "metadata": {},
     "output_type": "execute_result"
    }
   ],
   "source": [
    "data.head(5)"
   ],
   "metadata": {
    "collapsed": false
   }
  },
  {
   "cell_type": "code",
   "execution_count": 11,
   "outputs": [],
   "source": [
    "data.columns = ['Time','Temperature','Precipitation', 'Rain', 'Snowfall','Borough']"
   ],
   "metadata": {
    "collapsed": false
   }
  },
  {
   "cell_type": "code",
   "execution_count": 12,
   "outputs": [],
   "source": [
    "data.to_csv(f'{OUTPUT_DATA_PATH}/WEATHER.csv')"
   ],
   "metadata": {
    "collapsed": false
   }
  }
 ],
 "metadata": {
  "kernelspec": {
   "display_name": "Python 3",
   "language": "python",
   "name": "python3"
  },
  "language_info": {
   "codemirror_mode": {
    "name": "ipython",
    "version": 2
   },
   "file_extension": ".py",
   "mimetype": "text/x-python",
   "name": "python",
   "nbconvert_exporter": "python",
   "pygments_lexer": "ipython2",
   "version": "2.7.6"
  }
 },
 "nbformat": 4,
 "nbformat_minor": 0
}
