{
 "cells": [
  {
   "cell_type": "markdown",
   "source": [
    "# Merging Weather Data"
   ],
   "metadata": {
    "collapsed": false
   }
  },
  {
   "cell_type": "code",
   "execution_count": 11,
   "outputs": [],
   "source": [
    "import pandas as pd"
   ],
   "metadata": {
    "collapsed": false
   }
  },
  {
   "cell_type": "code",
   "execution_count": 12,
   "outputs": [],
   "source": [
    "INPUT_DATA_PATH = '../data'\n",
    "OUTPUT_DATA_PATH = '../data/csv'"
   ],
   "metadata": {
    "collapsed": false
   }
  },
  {
   "cell_type": "code",
   "execution_count": 13,
   "outputs": [],
   "source": [
    "data = pd.DataFrame()\n",
    "for borough in ['Bronx', 'Brooklyn', 'Manhattan', 'Queens', 'StatenIsland']:\n",
    "    data_borough = pd.read_csv(f'{INPUT_DATA_PATH}/WeatherData_{borough}.csv')\n",
    "    data_borough['Borough'] = len(data_borough) * [borough]\n",
    "    data = pd.concat([data, data_borough], axis=0)"
   ],
   "metadata": {
    "collapsed": false
   }
  },
  {
   "cell_type": "code",
   "execution_count": 14,
   "outputs": [],
   "source": [
    "data.columns = ['Time','Temperature','Precipitation','Borough']"
   ],
   "metadata": {
    "collapsed": false
   }
  },
  {
   "cell_type": "code",
   "execution_count": 16,
   "outputs": [],
   "source": [
    "data.to_csv(f'{OUTPUT_DATA_PATH}/WEATHER.csv')"
   ],
   "metadata": {
    "collapsed": false
   }
  }
 ],
 "metadata": {
  "kernelspec": {
   "display_name": "Python 3",
   "language": "python",
   "name": "python3"
  },
  "language_info": {
   "codemirror_mode": {
    "name": "ipython",
    "version": 2
   },
   "file_extension": ".py",
   "mimetype": "text/x-python",
   "name": "python",
   "nbconvert_exporter": "python",
   "pygments_lexer": "ipython2",
   "version": "2.7.6"
  }
 },
 "nbformat": 4,
 "nbformat_minor": 0
}
